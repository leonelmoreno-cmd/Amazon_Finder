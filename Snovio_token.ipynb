{
  "nbformat": 4,
  "nbformat_minor": 0,
  "metadata": {
    "colab": {
      "provenance": [],
      "authorship_tag": "ABX9TyOZhInNseVRiU8ASykddEug",
      "include_colab_link": true
    },
    "kernelspec": {
      "name": "python3",
      "display_name": "Python 3"
    },
    "language_info": {
      "name": "python"
    }
  },
  "cells": [
    {
      "cell_type": "markdown",
      "metadata": {
        "id": "view-in-github",
        "colab_type": "text"
      },
      "source": [
        "<a href=\"https://colab.research.google.com/github/leonelmoreno-cmd/Amazon_Finder/blob/main/Snovio_token.ipynb\" target=\"_parent\"><img src=\"https://colab.research.google.com/assets/colab-badge.svg\" alt=\"Open In Colab\"/></a>"
      ]
    },
    {
      "cell_type": "code",
      "execution_count": 1,
      "metadata": {
        "id": "pYeXobmTE8gl"
      },
      "outputs": [],
      "source": [
        "# Los emails devueltos están sin verificar; si quieres validarlos, usa el Email Verifier de Snov.io.\n",
        "#The API rate is limited to 60 requests per minute.\n",
        "\n",
        "import requests\n",
        "import json\n",
        "import time\n",
        "\n",
        "def get_access_token():\n",
        "    url = \"https://api.snov.io/v1/oauth/access_token\"\n",
        "    params = {\n",
        "        \"grant_type\": \"client_credentials\",\n",
        "        \"client_id\": \"fa6be1cc94a9a3a611be449f943be42d\",\n",
        "        \"client_secret\": \"195ef22a0be658fa654f9cf0f893d8da\"\n",
        "    }\n",
        "\n",
        "    response = requests.post(url, data=params)\n",
        "    data = response.json()  # convierte la respuesta JSON en un diccionario\n",
        "    return data[\"access_token\"]"
      ]
    },
    {
      "cell_type": "code",
      "source": [
        "token = get_access_token()"
      ],
      "metadata": {
        "id": "lXWjnFbTG9j5"
      },
      "execution_count": 2,
      "outputs": []
    },
    {
      "cell_type": "code",
      "source": [
        "def get_domain_email_count(domain, token):\n",
        "    \"\"\"\n",
        "    Llamada GRATUITA: te dice cuántos emails existen para el dominio\n",
        "    y si es webmail (gmail, yahoo...). Si webmail=True, siempre 0.\n",
        "    Útil para decidir si vale la pena gastar créditos luego.\n",
        "    \"\"\"\n",
        "    url = \"https://api.snov.io/v1/get-domain-emails-count\"\n",
        "    data = {\"access_token\": token, \"domain\": domain}\n",
        "    r = requests.post(url, data=data, timeout=30)\n",
        "    r.raise_for_status()\n",
        "    return r.json()  # {success, domain, webmail, result}\n"
      ],
      "metadata": {
        "id": "NPW_9ekEQ-a5"
      },
      "execution_count": 3,
      "outputs": []
    },
    {
      "cell_type": "code",
      "source": [
        "def start_domain_emails(domain, token):\n",
        "    \"\"\"\n",
        "    Inicia una 'tarea' que extrae emails de un dominio.\n",
        "    - Primera página: manda domain.\n",
        "    - Páginas siguientes: manda 'next' (te lo da la respuesta anterior).\n",
        "    Devuelve:\n",
        "      - task_hash (ID de la tarea)\n",
        "      - result_url (endpoint GET para consultar el resultado)\n",
        "    \"\"\"\n",
        "    url = \"https://api.snov.io/v2/domain-search/domain-emails/start\"\n",
        "    headers = {\"Authorization\": f\"Bearer {token}\"}\n",
        "    params = {\"domain\": domain}\n",
        "\n",
        "    r = requests.post(url, params=params, headers=headers, timeout=30)\n",
        "    r.raise_for_status()\n",
        "    payload = r.json()\n",
        "    task_hash = payload[\"meta\"][\"task_hash\"]\n",
        "    result_url = payload[\"links\"][\"result\"]\n",
        "    return task_hash, result_url\n"
      ],
      "metadata": {
        "id": "cqlJA-vHWpRZ"
      },
      "execution_count": 4,
      "outputs": []
    },
    {
      "cell_type": "code",
      "source": [
        "def poll_domain_emails_result(task_hash, token, poll_every=3, max_wait=60):\n",
        "    \"\"\"\n",
        "    Consulta periódicamente el resultado de la tarea:\n",
        "      - Si status == 'in progress', espera y vuelve a consultar.\n",
        "      - Si status == 'completed', devuelve:\n",
        "          * emails (lista de emails de esa página)\n",
        "          * next_link (URL para pedir la siguiente página; puede estar vacío)\n",
        "          * meta (info útil: total_count, etc.)\n",
        "    \"\"\"\n",
        "    url = f\"https://api.snov.io/v2/domain-search/domain-emails/result/{task_hash}\"\n",
        "    headers = {\"Authorization\": f\"Bearer {token}\"}\n",
        "    waited = 0\n",
        "\n",
        "    while waited <= max_wait:\n",
        "        r = requests.get(url, headers=headers, timeout=30)\n",
        "        r.raise_for_status()\n",
        "        resp = r.json()\n",
        "        status = resp.get(\"status\")  # \"completed\" | \"in progress\"\n",
        "\n",
        "        if status == \"completed\":\n",
        "            emails = [item[\"email\"] for item in resp.get(\"data\", [])]\n",
        "            next_link = resp.get(\"links\", {}).get(\"next\")\n",
        "            meta = resp.get(\"meta\", {})\n",
        "            return emails, next_link, meta\n",
        "\n",
        "        time.sleep(poll_every)\n",
        "        waited += poll_every\n",
        "\n",
        "    raise TimeoutError(\"La tarea tardó demasiado en completarse\")\n"
      ],
      "metadata": {
        "id": "lj583ZH0aGps"
      },
      "execution_count": 5,
      "outputs": []
    },
    {
      "cell_type": "code",
      "source": [
        "def fetch_emails_first_page(domain, token):\n",
        "    \"\"\"\n",
        "    Obtiene SOLO la primera página de correos de un dominio desde Snov.io.\n",
        "\n",
        "    Pasos:\n",
        "    1. Inicia la búsqueda del dominio.\n",
        "    2. Espera hasta que la API complete la tarea.\n",
        "    3. Devuelve los correos encontrados (sin paginar).\n",
        "    \"\"\"\n",
        "    all_emails = []\n",
        "\n",
        "    # 1️⃣ Inicia la búsqueda\n",
        "    task_hash, _ = start_domain_emails(domain, token)\n",
        "\n",
        "    # 2️⃣ Espera el resultado de esa búsqueda\n",
        "    emails, next_link, meta = poll_domain_emails_result(task_hash, token)\n",
        "\n",
        "    # 3️⃣ Guarda los correos encontrados\n",
        "    all_emails.extend(emails)\n",
        "\n",
        "    # 4️⃣ Devuelve lista de correos (sin duplicados) y los metadatos\n",
        "    return list(dict.fromkeys(all_emails)), meta\n"
      ],
      "metadata": {
        "id": "tg0VtSI-a8Oi"
      },
      "execution_count": 6,
      "outputs": []
    },
    {
      "cell_type": "code",
      "source": [
        "def fetch_emails_for_domains(domains, token, skip_webmail=True):\n",
        "    \"\"\"\n",
        "    Recorre tus dominios y aplica el flujo:\n",
        "      - (Gratis) get_domain_email_count: si es webmail o 0 resultados, evita gastar créditos.\n",
        "      - Si hay resultados, saca todas las páginas con fetch_emails_first_page.\n",
        "    Devuelve un dict:\n",
        "      {\n",
        "        \"dominio.com\": {\n",
        "          \"emails\": [...],\n",
        "          \"total_count_reported\": 108,\n",
        "          \"note\": \"...\"\n",
        "        },\n",
        "        ...\n",
        "      }\n",
        "    \"\"\"\n",
        "    results = {}\n",
        "\n",
        "    for domain in domains:\n",
        "        try:\n",
        "            # Paso opcional y gratis para filtrar\n",
        "            cnt = get_domain_email_count(domain, token)\n",
        "\n",
        "            if skip_webmail and cnt.get(\"webmail\"):\n",
        "                results[domain] = {\"emails\": [], \"note\": \"Dominio webmail; Snov devuelve 0\"}\n",
        "                continue\n",
        "\n",
        "            if cnt.get(\"result\", 0) == 0:\n",
        "                results[domain] = {\"emails\": [], \"note\": \"Sin emails en la base (0)\"}\n",
        "                continue\n",
        "\n",
        "            emails, meta = fetch_emails_first_page(domain, token)\n",
        "            results[domain] = {\n",
        "                \"emails\": emails,\n",
        "                \"total_count_reported\": meta.get(\"total_count\"),\n",
        "                \"note\": \"Unverified emails; use Email Verifier to validate them.\"\n",
        "            }\n",
        "\n",
        "        except Exception as e:\n",
        "            # Captura errores por dominio para no abortar todo el lote\n",
        "            results[domain] = {\"emails\": [], \"error\": str(e)}\n",
        "\n",
        "    return results\n"
      ],
      "metadata": {
        "id": "oSNKDSX68bKj"
      },
      "execution_count": 7,
      "outputs": []
    },
    {
      "cell_type": "code",
      "source": [
        "dominios = [\"www.affresh.com\"]\n",
        "resultado = fetch_emails_for_domains(dominios, token)\n",
        "print(json.dumps(resultado, indent=2, ensure_ascii=False))\n"
      ],
      "metadata": {
        "colab": {
          "base_uri": "https://localhost:8080/"
        },
        "id": "2ezQle_j8uO1",
        "outputId": "d04c0a82-3f97-425b-f99e-759dfe55d82f"
      },
      "execution_count": 8,
      "outputs": [
        {
          "output_type": "stream",
          "name": "stdout",
          "text": [
            "{\n",
            "  \"www.affresh.com\": {\n",
            "    \"emails\": [\n",
            "      \"info@affresh.com\",\n",
            "      \"johnsmith@affresh.com\",\n",
            "      \"john.smith@affresh.com\"\n",
            "    ],\n",
            "    \"total_count_reported\": 3,\n",
            "    \"note\": \"Emails sin verificar; usa Email Verifier para validarlos.\"\n",
            "  }\n",
            "}\n"
          ]
        }
      ]
    }
  ]
}